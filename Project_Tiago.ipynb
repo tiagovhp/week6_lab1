{
 "cells": [
  {
   "cell_type": "code",
   "execution_count": null,
   "metadata": {},
   "outputs": [],
   "source": [
    "import math\n",
    "import random\n",
    "import os\n",
    "\n",
    "def calculate_area_of_circle(radius):\n",
    "    \"\"\"Calculate the area of a circle given its radius.\"\"\"\n",
    "    return math.pi * radius ** 2\n",
    "\n",
    "def generate_random_number(min_val, max_val):\n",
    "    \"\"\"Generate a random number between min_val and max_val.\"\"\"\n",
    "    return random.randint(min_val, max_val)\n",
    "\n",
    "def write_random_numbers_to_file(file_path, count):\n",
    "    \"\"\"Write 'count' random numbers to a file.\"\"\"\n",
    "    with open(file_path, 'w') as f:\n",
    "        for _ in range(count):\n",
    "            f.write(f\"{generate_random_number(1, 100)}\\n\")\n",
    "\n",
    "def read_numbers_from_file(file_path):\n",
    "    \"\"\"Read numbers from a file and return them as a list of integers.\"\"\"\n",
    "    if not os.path.exists(file_path):\n",
    "        print(f\"File not found: {file_path}\")\n",
    "        return []\n",
    "    \n",
    "    with open(file_path, 'r') as f:\n",
    "        return [int(line.strip()) for line in f]\n",
    "\n",
    "def main():\n",
    "    # Example usage of the functions\n",
    "    radius = 5\n",
    "    area = calculate_area_of_circle(radius)\n",
    "    print(f\"Area of a circle with radius {radius}: {area}\")\n",
    "\n",
    "    random_file_path = 'random_numbers.txt'\n",
    "    write_random_numbers_to_file(random_file_path, 10)\n",
    "    print(f\"10 random numbers written to {random_file_path}.\")\n",
    "\n",
    "    numbers = read_numbers_from_file(random_file_path)\n",
    "    print(f\"Numbers read from file: {numbers}\")\n",
    "\n",
    "if __name__ == \"__main__\":\n",
    "    main()\n"
   ]
  }
 ],
 "metadata": {
  "language_info": {
   "name": "python"
  }
 },
 "nbformat": 4,
 "nbformat_minor": 2
}
